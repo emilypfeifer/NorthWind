{
 "cells": [
  {
   "cell_type": "markdown",
   "metadata": {},
   "source": [
    "# Module 2 Final Project\n",
    "**Name:** Emily Pfeifer\n",
    "\n",
    "**Blog URL:** https://pfeiferem.weebly.com/northwind-database.html\n",
    "\n",
    "**Instructor:** Brandon Lewis"
   ]
  },
  {
   "cell_type": "markdown",
   "metadata": {},
   "source": [
    "## Getting Started"
   ]
  },
  {
   "cell_type": "markdown",
   "metadata": {},
   "source": [
    "Below we will begin working on the SQL data for the fictional company \"NorthWind\". As their data scientist, it is our job to extract relevant information from the gathered data provided by NorthWind. We will be using a frequestist statistical approach to perform hypothesis tests on the data so that we can improve NorthWind's business model."
   ]
  },
  {
   "cell_type": "code",
   "execution_count": 2,
   "metadata": {},
   "outputs": [],
   "source": [
    "import sqlite3 #import necessary libraries\n",
    "import pandas as pd \n",
    "import matplotlib.pyplot as plt \n",
    "import seaborn as sns\n",
    "import numpy as np \n",
    "from scipy import stats\n",
    "import math\n",
    "import scipy\n",
    "#command to display graphs in our jupyter notebook\n",
    "% matplotlib inline "
   ]
  },
  {
   "cell_type": "code",
   "execution_count": 3,
   "metadata": {},
   "outputs": [],
   "source": [
    "conn = sqlite3.connect('Northwind_small.sqlite') #connect to database\n",
    "c = conn.cursor() #set cursor"
   ]
  },
  {
   "cell_type": "code",
   "execution_count": 4,
   "metadata": {},
   "outputs": [],
   "source": [
    "tables = c.execute(\"SELECT name FROM sqlite_master WHERE type='table';\").fetchall() #get list of tables in SQL data base\n",
    "tables = [i[0] for i in tables]"
   ]
  },
  {
   "cell_type": "code",
   "execution_count": 4,
   "metadata": {},
   "outputs": [
    {
     "data": {
      "text/plain": [
       "['Employee',\n",
       " 'Category',\n",
       " 'Customer',\n",
       " 'Shipper',\n",
       " 'Supplier',\n",
       " 'Order',\n",
       " 'Product',\n",
       " 'OrderDetail',\n",
       " 'CustomerCustomerDemo',\n",
       " 'CustomerDemographic',\n",
       " 'Region',\n",
       " 'Territory',\n",
       " 'EmployeeTerritory']"
      ]
     },
     "execution_count": 4,
     "metadata": {},
     "output_type": "execute_result"
    }
   ],
   "source": [
    "tables #let's see what we have"
   ]
  },
  {
   "cell_type": "code",
   "execution_count": 5,
   "metadata": {},
   "outputs": [],
   "source": [
    "#converting list of tables into pandas dataframes\n",
    "dfs = [] #empty list to fill with our new dataframes\n",
    "for i in tables: #creating a for loop to convert each table to a dataframe for further analysis\n",
    "    table = c.execute('select * from \"'+i+'\"').fetchall()\n",
    "    columns = c.execute('PRAGMA table_info(\"'+i+'\")').fetchall()\n",
    "    df = pd.DataFrame(table, columns=[i[1] for i in columns])\n",
    "    dbname = i+\"_df\" #this will create the database names\n",
    "    exec(dbname + \" = df\") \n",
    "    dfs.append(dbname)"
   ]
  },
  {
   "cell_type": "code",
   "execution_count": 6,
   "metadata": {},
   "outputs": [
    {
     "data": {
      "text/plain": [
       "['Employee_df',\n",
       " 'Category_df',\n",
       " 'Customer_df',\n",
       " 'Shipper_df',\n",
       " 'Supplier_df',\n",
       " 'Order_df',\n",
       " 'Product_df',\n",
       " 'OrderDetail_df',\n",
       " 'CustomerCustomerDemo_df',\n",
       " 'CustomerDemographic_df',\n",
       " 'Region_df',\n",
       " 'Territory_df',\n",
       " 'EmployeeTerritory_df']"
      ]
     },
     "execution_count": 6,
     "metadata": {},
     "output_type": "execute_result"
    }
   ],
   "source": [
    "dfs #checking our work"
   ]
  },
  {
   "cell_type": "code",
   "execution_count": 6,
   "metadata": {},
   "outputs": [],
   "source": [
    "def preview_data(df, Heads = ['Description','Shape', 'Unique','Types']): #create function to get details on each table/dataframe\n",
    "    preview_return = {'Description':df.describe(), 'Shape':df.shape, #returning description, shape\n",
    "                     'Unique':df.nunique(axis = 0), 'Types':df.dtypes}  #number of unique values, and datatypes\n",
    "    return preview_return  "
   ]
  },
  {
   "cell_type": "markdown",
   "metadata": {},
   "source": [
    "## Q1: Do discounts have a statistically significant effect on the number of products customers order? If so, at what level(s) of discount?"
   ]
  },
  {
   "cell_type": "markdown",
   "metadata": {},
   "source": [
    "Let's start this by performing some Exploratory Data Analysis."
   ]
  },
  {
   "cell_type": "code",
   "execution_count": 8,
   "metadata": {},
   "outputs": [
    {
     "data": {
      "text/plain": [
       "{'Description':             OrderId    ProductId    UnitPrice     Quantity     Discount\n",
       " count   2155.000000  2155.000000  2155.000000  2155.000000  2155.000000\n",
       " mean   10659.375870    40.793039    26.218520    23.812993     0.056167\n",
       " std      241.378032    22.159019    29.827418    19.022047     0.083450\n",
       " min    10248.000000     1.000000     2.000000     1.000000     0.000000\n",
       " 25%    10451.000000    22.000000    12.000000    10.000000     0.000000\n",
       " 50%    10657.000000    41.000000    18.400000    20.000000     0.000000\n",
       " 75%    10862.500000    60.000000    32.000000    30.000000     0.100000\n",
       " max    11077.000000    77.000000   263.500000   130.000000     0.250000,\n",
       " 'Shape': (2155, 6),\n",
       " 'Unique': Id           2155\n",
       " OrderId       830\n",
       " ProductId      77\n",
       " UnitPrice     116\n",
       " Quantity       55\n",
       " Discount       11\n",
       " dtype: int64,\n",
       " 'Types': Id            object\n",
       " OrderId        int64\n",
       " ProductId      int64\n",
       " UnitPrice    float64\n",
       " Quantity       int64\n",
       " Discount     float64\n",
       " dtype: object}"
      ]
     },
     "execution_count": 8,
     "metadata": {},
     "output_type": "execute_result"
    }
   ],
   "source": [
    "preview_data(OrderDetail_df) #get some info on Order Details"
   ]
  },
  {
   "cell_type": "markdown",
   "metadata": {},
   "source": [
    "Right off the bat, I just want to get a visualization on what our discounted product quantities vs. our non-discounted product quanitities look like."
   ]
  },
  {
   "cell_type": "code",
   "execution_count": 9,
   "metadata": {},
   "outputs": [
    {
     "data": {
      "image/png": "[encoded data removed]",
      "text/plain": [
       "<Figure size 1440x720 with 1 Axes>"
      ]
     },
     "metadata": {},
     "output_type": "display_data"
    }
   ],
   "source": [
    "#grouping discounted products by average quantity sold and non-discounted products by average quantity sold\n",
    "discount = OrderDetail_df[OrderDetail_df['Discount']!=0].groupby('ProductId')['Quantity'].mean()\n",
    "no_discount = OrderDetail_df[OrderDetail_df['Discount']==0].groupby('ProductId')['Quantity'].mean()\n",
    "plt.figure(figsize=(20,10)) #plotting these two new groups on the same bar graph for comparison\n",
    "plt.bar(discount.index, discount.values, alpha=1, label='Discounted', color='pink')\n",
    "plt.bar(no_discount.index, no_discount.values, alpha=0.8, label='Not Discounted', color='green') #stylistic choices\n",
    "plt.legend()\n",
    "plt.title('Order quantities X discount')\n",
    "plt.xlabel('Product ID')\n",
    "plt.ylabel('Average quantities')\n",
    "plt.show()"
   ]
  },
  {
   "cell_type": "markdown",
   "metadata": {},
   "source": [
    "It's clear that for some products, the discount created a spike in the average quantity ordered. To test if the difference is significant, we will run a hypothesis test on the data."
   ]
  },
  {
   "cell_type": "markdown",
   "metadata": {},
   "source": [
    "Northwind is not only curious about whether or not a discount impacts the number of products that a customer buys, but they want to know specifically how the level of discount ties in. With this in mind, I am going to take a closer look at the Discount variable."
   ]
  },
  {
   "cell_type": "code",
   "execution_count": 10,
   "metadata": {},
   "outputs": [
    {
     "data": {
      "text/plain": [
       "0.00    1317\n",
       "0.05     185\n",
       "0.10     173\n",
       "0.20     161\n",
       "0.15     157\n",
       "0.25     154\n",
       "0.03       3\n",
       "0.02       2\n",
       "0.01       1\n",
       "0.04       1\n",
       "0.06       1\n",
       "Name: Discount, dtype: int64"
      ]
     },
     "execution_count": 10,
     "metadata": {},
     "output_type": "execute_result"
    }
   ],
   "source": [
    "OrderDetail_df.Discount.value_counts() #let's see the spread of value counts"
   ]
  },
  {
   "cell_type": "markdown",
   "metadata": {},
   "source": [
    "It looks like discount levels .01, .02, .03, .04 and .06 are too small to really give us any information. Let's drop them from our dataset."
   ]
  },
  {
   "cell_type": "code",
   "execution_count": 7,
   "metadata": {},
   "outputs": [
    {
     "data": {
      "text/plain": [
       "0.00    1317\n",
       "0.05     185\n",
       "0.10     173\n",
       "0.20     161\n",
       "0.15     157\n",
       "0.25     154\n",
       "Name: Discount, dtype: int64"
      ]
     },
     "execution_count": 7,
     "metadata": {},
     "output_type": "execute_result"
    }
   ],
   "source": [
    "#Making a list of the discount levels that I want to keep\n",
    "keep = (OrderDetail_df.Discount == 0.00) | (OrderDetail_df.Discount == 0.05) | (OrderDetail_df.Discount == 0.10) | (OrderDetail_df.Discount == 0.15) | (OrderDetail_df.Discount == 0.20) | (OrderDetail_df.Discount == 0.25)\n",
    "data = OrderDetail_df.loc[keep] #creating a new df that only has those discount levels\n",
    "data.Discount.value_counts() #checking our work"
   ]
  },
  {
   "cell_type": "markdown",
   "metadata": {},
   "source": [
    "### Q1a: Do discounts have a statistically significant effect on the number of products customers order?"
   ]
  },
  {
   "cell_type": "markdown",
   "metadata": {},
   "source": [
    "This brings us to our null and alternative hypothesises for Q1. We will set the significance level at .05.\n",
    "\n",
    "$H_0$: The discount level will not have an effect on the average quantity of products ordered ($H_0: \\mu_1 = \\mu_2 = \\mu_3 =  ...  = \\mu_i ...  = \\mu_j$)\n",
    "\n",
    "$H_a$: The discount level will have an effect on the average quantity of products ordered ($H_a: \\mu_i \\neq \\mu_j$)"
   ]
  },
  {
   "cell_type": "markdown",
   "metadata": {},
   "source": [
    "### Welch's T-Testing"
   ]
  },
  {
   "cell_type": "markdown",
   "metadata": {},
   "source": [
    "We will be using Welch's T-Test, which is a \"two-sided test for the null hypothesis that 2 independent samples have identical average (expected) values\" according to the function's documentation on scipy.org.\n",
    "\n",
    "We will also be operating under the assumptions that our data is independent, collected randomly, and approximately normally distributed.\n",
    "\n",
    "Because we did not collect the data ourselves, all we can do is assume that the data is independent and collected randomly. The only thing that we can test for at this point is that the data is normally disributed. We will test this using an Anderson-Darling test."
   ]
  },
  {
   "cell_type": "code",
   "execution_count": 12,
   "metadata": {},
   "outputs": [],
   "source": [
    "nondiscount = data[data['Discount']==0]['Quantity'] #setting our control variable to quanities where there was no discount\n",
    "discount = data[data['Discount']!=0]['Quantity'] #setting our experimental variable to quantities where there was a discount"
   ]
  },
  {
   "cell_type": "code",
   "execution_count": 13,
   "metadata": {
    "scrolled": false
   },
   "outputs": [
    {
     "name": "stdout",
     "output_type": "stream",
     "text": [
      "Control Results: AndersonResult(statistic=44.59835234133561, critical_values=array([0.574, 0.654, 0.785, 0.915, 1.089]), significance_level=array([15. , 10. ,  5. ,  2.5,  1. ]))\n",
      "\n",
      "Experimental Results: AndersonResult(statistic=27.85064706894036, critical_values=array([0.573, 0.653, 0.783, 0.914, 1.087]), significance_level=array([15. , 10. ,  5. ,  2.5,  1. ]))\n"
     ]
    }
   ],
   "source": [
    "#let's run an anderson-darling test using scipy's built in feature\n",
    "from scipy.stats import anderson\n",
    "result_nd = anderson(nondiscount) #running A-D test for non-discounted products\n",
    "result_d = anderson(discount) #running A-D test for discounted products\n",
    "print(\"Control Results:\", result_nd)\n",
    "print(\"\\nExperimental Results:\", result_d)"
   ]
  },
  {
   "cell_type": "markdown",
   "metadata": {},
   "source": [
    "Anderson-Darling tests the null hypothesis that our data is not normally distributed. The output we recieve from our test is the test-statistic and an array of critical values as well as an array of corresponding significance levels. We can interpret that both our control data and our experimental data are normally distributed based on the fact that the test statistics are larger than our critical values, meaning that we can reject the null."
   ]
  },
  {
   "cell_type": "code",
   "execution_count": 14,
   "metadata": {},
   "outputs": [
    {
     "data": {
      "text/plain": [
       "count    2147.000000\n",
       "mean        0.056265\n",
       "std         0.083586\n",
       "min         0.000000\n",
       "25%         0.000000\n",
       "50%         0.000000\n",
       "75%         0.100000\n",
       "max         0.250000\n",
       "Name: Discount, dtype: float64"
      ]
     },
     "execution_count": 14,
     "metadata": {},
     "output_type": "execute_result"
    }
   ],
   "source": [
    "data.Discount.describe() #descriptive statistics of our Discount column"
   ]
  },
  {
   "cell_type": "markdown",
   "metadata": {},
   "source": [
    "We need a little bit of information before we continue. Specifically, we need to figure out the critical T-value.\n",
    "\n",
    "Looks like our data consists of 2147 observations, so n = 2147. Let's keep in mind that most of the orders are not discounted. \n",
    "\n",
    "For our Welch's t-test, we need to calculate the degrees of freedom, which is equal to n-1, so df = 2146.\n",
    "\n",
    "As previously stated, we are setting alpha (the significance level) to .05."
   ]
  },
  {
   "cell_type": "code",
   "execution_count": 15,
   "metadata": {},
   "outputs": [
    {
     "data": {
      "text/plain": [
       "1.6455639862952895"
      ]
     },
     "execution_count": 15,
     "metadata": {},
     "output_type": "execute_result"
    }
   ],
   "source": [
    "#this formula for scipy lets us just plug in alpha and our degrees of freedom\n",
    "#and then it returns the critical t-value\n",
    "scipy.stats.t.ppf(1-.05, 2146)"
   ]
  },
  {
   "cell_type": "code",
   "execution_count": 18,
   "metadata": {},
   "outputs": [],
   "source": [
    "#let's start defining our relevant statistics\n",
    "t_val_crit = 1.646 #setting our t-value\n",
    "control_mean = nondiscount.mean() #setting our control mean\n",
    "experimental_mean = discount.mean() #setting our experimental mean\n",
    "mean_diff = (experimental_mean - control_mean) #retrieve the difference between the two\n",
    "sigma = np.sqrt(((len(nondiscount)*(nondiscount.var())) + (len(discount)*(discount.var())))/((len(nondiscount))+(len(discount))))"
   ]
  },
  {
   "cell_type": "code",
   "execution_count": 19,
   "metadata": {},
   "outputs": [
    {
     "name": "stdout",
     "output_type": "stream",
     "text": [
      "t-value = 6.76 and the p-value = 0.0\n"
     ]
    }
   ],
   "source": [
    "results = stats.ttest_ind(nondiscount, discount) #running our Welch's T-Test\n",
    "print (\"t-value =\", abs(round(results[0], 2)), \"and the p-value =\", np.round((results[1]), 10)) #printing results"
   ]
  },
  {
   "cell_type": "markdown",
   "metadata": {},
   "source": [
    "As we can see, the t-value is higher than our critical t-value and our p-value is less that .05, meaning that we can reject the null hypothesis. This means that there is a statistically significant difference between the average quantities of products ordered with no discount and the average quantities of products ordered with discounts!\n",
    "\n",
    "Now let's take a look at the effect size using Cohen's D."
   ]
  },
  {
   "cell_type": "markdown",
   "metadata": {},
   "source": [
    "### Cohen's D and Effect Size"
   ]
  },
  {
   "cell_type": "code",
   "execution_count": 20,
   "metadata": {},
   "outputs": [
    {
     "data": {
      "text/plain": [
       "0.2997078720940889"
      ]
     },
     "execution_count": 20,
     "metadata": {},
     "output_type": "execute_result"
    }
   ],
   "source": [
    "#cohen's d is calculated by taking the difference of the means and dividing them by the standard variation\n",
    "#we have done most of the legwork by hand up above\n",
    "cd = mean_diff/sigma #formula for cohen's d statistic\n",
    "abs(cd) #taking the absolute value of our result"
   ]
  },
  {
   "cell_type": "markdown",
   "metadata": {},
   "source": [
    "It looks like Cohen's D Statistic is equal to about .3, which is on the smaller side, but could still be considered a medium effect size. Effect size is important because it lets us quickly see how much a difference \"matters\", without actually needing to compare any specific numbers."
   ]
  },
  {
   "cell_type": "markdown",
   "metadata": {},
   "source": [
    "### Q1b: Is there a difference between the effects of discount devels?"
   ]
  },
  {
   "cell_type": "markdown",
   "metadata": {},
   "source": [
    "$H_0$: There is no difference in the means of order quantity across the discount levels.\n",
    "\n",
    "$H_a$: There is a difference in the means of order quantity across the discount levels.\n",
    "\n",
    "To see if the level of discount has an effect on order quantity, I will be using a one-way Anova (analysis of variance) test, which is typically used to determine if there is a statistically significant difference between two or more group means using the F-distribution. I will then run a Tukey HSD test, which will report the data from our Anova test and let us know if we are able to reject our null hypothesis or not."
   ]
  },
  {
   "cell_type": "code",
   "execution_count": 152,
   "metadata": {},
   "outputs": [
    {
     "name": "stdout",
     "output_type": "stream",
     "text": [
      "                            OLS Regression Results                            \n",
      "==============================================================================\n",
      "Dep. Variable:               Quantity   R-squared:                       0.016\n",
      "Model:                            OLS   Adj. R-squared:                  0.016\n",
      "Method:                 Least Squares   F-statistic:                     35.49\n",
      "Date:                Wed, 10 Apr 2019   Prob (F-statistic):           2.99e-09\n",
      "Time:                        14:05:20   Log-Likelihood:                -9351.1\n",
      "No. Observations:                2147   AIC:                         1.871e+04\n",
      "Df Residuals:                    2145   BIC:                         1.872e+04\n",
      "Df Model:                           1                                         \n",
      "Covariance Type:            nonrobust                                         \n",
      "==============================================================================\n",
      "                 coef    std err          t      P>|t|      [0.025      0.975]\n",
      "------------------------------------------------------------------------------\n",
      "Intercept     22.2628      0.491     45.374      0.000      21.301      23.225\n",
      "Discount      29.0137      4.870      5.957      0.000      19.463      38.565\n",
      "==============================================================================\n",
      "Omnibus:                      793.193   Durbin-Watson:                   1.642\n",
      "Prob(Omnibus):                  0.000   Jarque-Bera (JB):             3134.102\n",
      "Skew:                           1.787   Prob(JB):                         0.00\n",
      "Kurtosis:                       7.718   Cond. No.                         12.0\n",
      "==============================================================================\n",
      "\n",
      "Warnings:\n",
      "[1] Standard Errors assume that the covariance matrix of the errors is correctly specified.\n",
      "                 sum_sq      df          F        PR(>F)\n",
      "Discount   12621.238965     1.0  35.487951  2.991487e-09\n",
      "Residual  762866.181622  2145.0        NaN           NaN\n"
     ]
    }
   ],
   "source": [
    "import statsmodels.api as sm #import necessary libraries\n",
    "from statsmodels.formula.api import ols\n",
    "\n",
    "#I will begin with an OLS regression, from which we can get the ANOVA\n",
    "formula = 'Quantity ~ Discount' #defining our formula\n",
    "lm = ols(formula, data).fit() #fitting the model\n",
    "print(lm.summary())\n",
    "table = sm.stats.anova_lm(lm, typ=2) #retrieving f-values and p-values\n",
    "print(table)"
   ]
  },
  {
   "cell_type": "markdown",
   "metadata": {},
   "source": [
    "From the table above, we can see that the F-Statistic has a value of 35.49 and a p-value less than .05, which confirms our findings from before that there is a statistically significant difference between order quantities of dicounted and non-discounted items.\n",
    "\n",
    "To clearly see the difference of effect across discount levels, we will be using a Tukey HSD test."
   ]
  },
  {
   "cell_type": "code",
   "execution_count": 27,
   "metadata": {},
   "outputs": [
    {
     "name": "stdout",
     "output_type": "stream",
     "text": [
      "Multiple Comparison of Means - Tukey HSD,FWER=0.05\n",
      "=============================================\n",
      "group1 group2 meandiff  lower   upper  reject\n",
      "---------------------------------------------\n",
      " 0.0    0.05   6.2955   2.0814 10.5097  True \n",
      " 0.0    0.1    3.5217  -0.8187  7.8622 False \n",
      " 0.0    0.15   6.6669   2.1352 11.1986  True \n",
      " 0.0    0.2    5.3096   0.8285  9.7907  True \n",
      " 0.0    0.25   6.525    1.954   11.096  True \n",
      " 0.05   0.1   -2.7738  -8.4504  2.9028 False \n",
      " 0.05   0.15   0.3714  -5.4528  6.1955 False \n",
      " 0.05   0.2    -0.986  -6.7708  4.7989 False \n",
      " 0.05   0.25   0.2294  -5.6253  6.0842 False \n",
      " 0.1    0.15   3.1452   -2.771  9.0613 False \n",
      " 0.1    0.2    1.7879  -4.0896  7.6653 False \n",
      " 0.1    0.25   3.0033   -2.943  8.9496 False \n",
      " 0.15   0.2   -1.3573  -7.3775  4.6628 False \n",
      " 0.15   0.25  -0.1419  -6.2292  5.9454 False \n",
      " 0.2    0.25   1.2154  -4.8343  7.2652 False \n",
      "---------------------------------------------\n"
     ]
    }
   ],
   "source": [
    "from statsmodels.stats.multicomp import (pairwise_tukeyhsd, #using statsmodels built-in tukey test\n",
    "                                         MultiComparison)\n",
    "\n",
    "mod = MultiComparison(data['Quantity'], data['Discount']) #defining the formula and running the Tukey test\n",
    "print(mod.tukeyhsd())"
   ]
  },
  {
   "cell_type": "markdown",
   "metadata": {},
   "source": [
    "Out of all 15 comparisons that ran, it looks like only four comparisons give us cause to reject the null, and those four comparisons all involve our control, which is the discount level of 0. The table shows that we are unable to reject the null hypothesis between any of the discount levels, meaniing that there is no statistically significant difference between the means of product quantity across discount levels. "
   ]
  },
  {
   "cell_type": "markdown",
   "metadata": {},
   "source": [
    "## Q2: Will there be an effect on sales if Customers are from the same region as the Employees that selling to them?"
   ]
  },
  {
   "cell_type": "markdown",
   "metadata": {},
   "source": [
    "I wonder if customers will be more willing to buy products or spend money when they are located in the same region as the employee helping them. I got this idea from the notion that sometimes people connect better with someone they have something in common with. It's possible that sharing a location with a customer may help an employee establish rapport.\n",
    "\n",
    "I will be combining 4 tables into the same dataframe: Employee, Customer, Order, and OrderDetail. I will be taking the Region column from both the Customer and Employee tables and I will be taking the UnitPrice and Quantity columns from OrderDetail. I will use the Orders table to join them based on their primary keys."
   ]
  },
  {
   "cell_type": "code",
   "execution_count": 176,
   "metadata": {},
   "outputs": [
    {
     "data": {
      "text/html": [
       "<div>\n",
       "<style scoped>\n",
       "    .dataframe tbody tr th:only-of-type {\n",
       "        vertical-align: middle;\n",
       "    }\n",
       "\n",
       "    .dataframe tbody tr th {\n",
       "        vertical-align: top;\n",
       "    }\n",
       "\n",
       "    .dataframe thead th {\n",
       "        text-align: right;\n",
       "    }\n",
       "</style>\n",
       "<table border=\"1\" class=\"dataframe\">\n",
       "  <thead>\n",
       "    <tr style=\"text-align: right;\">\n",
       "      <th></th>\n",
       "      <th>EmployeeId</th>\n",
       "      <th>CustomerId</th>\n",
       "      <th>Order_Id</th>\n",
       "      <th>Employee_Region</th>\n",
       "      <th>Customer_Region</th>\n",
       "      <th>Quantity</th>\n",
       "      <th>UnitPrice</th>\n",
       "    </tr>\n",
       "  </thead>\n",
       "  <tbody>\n",
       "    <tr>\n",
       "      <th>0</th>\n",
       "      <td>5</td>\n",
       "      <td>VINET</td>\n",
       "      <td>10248</td>\n",
       "      <td>British Isles</td>\n",
       "      <td>Western Europe</td>\n",
       "      <td>12</td>\n",
       "      <td>14.0</td>\n",
       "    </tr>\n",
       "    <tr>\n",
       "      <th>1</th>\n",
       "      <td>5</td>\n",
       "      <td>VINET</td>\n",
       "      <td>10248</td>\n",
       "      <td>British Isles</td>\n",
       "      <td>Western Europe</td>\n",
       "      <td>10</td>\n",
       "      <td>9.8</td>\n",
       "    </tr>\n",
       "    <tr>\n",
       "      <th>2</th>\n",
       "      <td>5</td>\n",
       "      <td>VINET</td>\n",
       "      <td>10248</td>\n",
       "      <td>British Isles</td>\n",
       "      <td>Western Europe</td>\n",
       "      <td>5</td>\n",
       "      <td>34.8</td>\n",
       "    </tr>\n",
       "    <tr>\n",
       "      <th>3</th>\n",
       "      <td>6</td>\n",
       "      <td>TOMSP</td>\n",
       "      <td>10249</td>\n",
       "      <td>British Isles</td>\n",
       "      <td>Western Europe</td>\n",
       "      <td>9</td>\n",
       "      <td>18.6</td>\n",
       "    </tr>\n",
       "    <tr>\n",
       "      <th>4</th>\n",
       "      <td>6</td>\n",
       "      <td>TOMSP</td>\n",
       "      <td>10249</td>\n",
       "      <td>British Isles</td>\n",
       "      <td>Western Europe</td>\n",
       "      <td>40</td>\n",
       "      <td>42.4</td>\n",
       "    </tr>\n",
       "  </tbody>\n",
       "</table>\n",
       "</div>"
      ],
      "text/plain": [
       "   EmployeeId CustomerId  Order_Id Employee_Region Customer_Region  Quantity  \\\n",
       "0           5      VINET     10248   British Isles  Western Europe        12   \n",
       "1           5      VINET     10248   British Isles  Western Europe        10   \n",
       "2           5      VINET     10248   British Isles  Western Europe         5   \n",
       "3           6      TOMSP     10249   British Isles  Western Europe         9   \n",
       "4           6      TOMSP     10249   British Isles  Western Europe        40   \n",
       "\n",
       "   UnitPrice  \n",
       "0       14.0  \n",
       "1        9.8  \n",
       "2       34.8  \n",
       "3       18.6  \n",
       "4       42.4  "
      ]
     },
     "execution_count": 176,
     "metadata": {},
     "output_type": "execute_result"
    }
   ],
   "source": [
    "#creating separate dataframe for Q2\n",
    "#first I will select the data I want from each table\n",
    "#then I will join the tables using the common ID\n",
    "data_Q2 = pd.read_sql_query('''\n",
    "\n",
    "                                \n",
    "                                SELECT O.EmployeeId, O.CustomerId, O.Id AS Order_Id, E.Region AS Employee_Region, C.Region AS Customer_Region, OD.Quantity, OD.UnitPrice\n",
    "                                FROM [Order] AS O \n",
    "                                JOIN Employee AS E\n",
    "                                ON O.EmployeeId = E.Id\n",
    "                                JOIN Customer AS C\n",
    "                                ON O.CustomerId = C.Id\n",
    "                                JOIN OrderDetail AS OD\n",
    "                                ON O.Id = OD.OrderId\n",
    "                                \n",
    "                                ''', conn)\n",
    "\n",
    "data_Q2.head()"
   ]
  },
  {
   "cell_type": "markdown",
   "metadata": {},
   "source": [
    "I'm going to create a new column that I will call 'same_region' to show whether the customer and the employee are located in the same region."
   ]
  },
  {
   "cell_type": "code",
   "execution_count": 178,
   "metadata": {},
   "outputs": [],
   "source": [
    "#creating new columns based on whether the values for employee region and customer region are the same \n",
    "#if they are the same, the value will be the region that both party's share, if they are different, the value will be 'diff'\n",
    "data_Q2['same_region'] = np.where((data_Q2['Employee_Region'] == data_Q2['Customer_Region']),\n",
    "                                  'same', 'diff')"
   ]
  },
  {
   "cell_type": "code",
   "execution_count": 180,
   "metadata": {
    "scrolled": true
   },
   "outputs": [
    {
     "data": {
      "text/html": [
       "<div>\n",
       "<style scoped>\n",
       "    .dataframe tbody tr th:only-of-type {\n",
       "        vertical-align: middle;\n",
       "    }\n",
       "\n",
       "    .dataframe tbody tr th {\n",
       "        vertical-align: top;\n",
       "    }\n",
       "\n",
       "    .dataframe thead th {\n",
       "        text-align: right;\n",
       "    }\n",
       "</style>\n",
       "<table border=\"1\" class=\"dataframe\">\n",
       "  <thead>\n",
       "    <tr style=\"text-align: right;\">\n",
       "      <th></th>\n",
       "      <th>EmployeeId</th>\n",
       "      <th>CustomerId</th>\n",
       "      <th>Order_Id</th>\n",
       "      <th>Employee_Region</th>\n",
       "      <th>Customer_Region</th>\n",
       "      <th>Quantity</th>\n",
       "      <th>UnitPrice</th>\n",
       "      <th>same_region</th>\n",
       "    </tr>\n",
       "  </thead>\n",
       "  <tbody>\n",
       "    <tr>\n",
       "      <th>0</th>\n",
       "      <td>5</td>\n",
       "      <td>VINET</td>\n",
       "      <td>10248</td>\n",
       "      <td>British Isles</td>\n",
       "      <td>Western Europe</td>\n",
       "      <td>12</td>\n",
       "      <td>14.0</td>\n",
       "      <td>diff</td>\n",
       "    </tr>\n",
       "    <tr>\n",
       "      <th>1</th>\n",
       "      <td>5</td>\n",
       "      <td>VINET</td>\n",
       "      <td>10248</td>\n",
       "      <td>British Isles</td>\n",
       "      <td>Western Europe</td>\n",
       "      <td>10</td>\n",
       "      <td>9.8</td>\n",
       "      <td>diff</td>\n",
       "    </tr>\n",
       "    <tr>\n",
       "      <th>2</th>\n",
       "      <td>5</td>\n",
       "      <td>VINET</td>\n",
       "      <td>10248</td>\n",
       "      <td>British Isles</td>\n",
       "      <td>Western Europe</td>\n",
       "      <td>5</td>\n",
       "      <td>34.8</td>\n",
       "      <td>diff</td>\n",
       "    </tr>\n",
       "    <tr>\n",
       "      <th>3</th>\n",
       "      <td>6</td>\n",
       "      <td>TOMSP</td>\n",
       "      <td>10249</td>\n",
       "      <td>British Isles</td>\n",
       "      <td>Western Europe</td>\n",
       "      <td>9</td>\n",
       "      <td>18.6</td>\n",
       "      <td>diff</td>\n",
       "    </tr>\n",
       "    <tr>\n",
       "      <th>4</th>\n",
       "      <td>6</td>\n",
       "      <td>TOMSP</td>\n",
       "      <td>10249</td>\n",
       "      <td>British Isles</td>\n",
       "      <td>Western Europe</td>\n",
       "      <td>40</td>\n",
       "      <td>42.4</td>\n",
       "      <td>diff</td>\n",
       "    </tr>\n",
       "  </tbody>\n",
       "</table>\n",
       "</div>"
      ],
      "text/plain": [
       "   EmployeeId CustomerId  Order_Id Employee_Region Customer_Region  Quantity  \\\n",
       "0           5      VINET     10248   British Isles  Western Europe        12   \n",
       "1           5      VINET     10248   British Isles  Western Europe        10   \n",
       "2           5      VINET     10248   British Isles  Western Europe         5   \n",
       "3           6      TOMSP     10249   British Isles  Western Europe         9   \n",
       "4           6      TOMSP     10249   British Isles  Western Europe        40   \n",
       "\n",
       "   UnitPrice same_region  \n",
       "0       14.0        diff  \n",
       "1        9.8        diff  \n",
       "2       34.8        diff  \n",
       "3       18.6        diff  \n",
       "4       42.4        diff  "
      ]
     },
     "execution_count": 180,
     "metadata": {},
     "output_type": "execute_result"
    }
   ],
   "source": [
    "data_Q2.head(5) #previewing the data"
   ]
  },
  {
   "cell_type": "markdown",
   "metadata": {},
   "source": [
    "There are two ways that I would like to measure the effect that a common region can have - the first way is average order quantity and the second way is average order value."
   ]
  },
  {
   "cell_type": "code",
   "execution_count": 20,
   "metadata": {},
   "outputs": [],
   "source": [
    "#grouping the data by same_region X average order quantity\n",
    "same_r_quantity = data_Q2[data_Q2['same_region'] != 'diff'].groupby('Order_Id')['Quantity'].mean()\n",
    "diff_r_quantity = data_Q2[data_Q2['same_region'] == 'diff'].groupby('Order_Id')['Quantity'].mean()"
   ]
  },
  {
   "cell_type": "code",
   "execution_count": 21,
   "metadata": {},
   "outputs": [],
   "source": [
    "#grouping the data by same_region X average order price\n",
    "same_r_price = data_Q2[data_Q2['same_region'] != 'diff'].groupby('Order_Id')['UnitPrice'].mean()\n",
    "diff_r_price = data_Q2[data_Q2['same_region'] == 'diff'].groupby('Order_Id')['UnitPrice'].mean()"
   ]
  },
  {
   "cell_type": "markdown",
   "metadata": {},
   "source": [
    "Before we run our test, let's quickly scan for outliers in our data."
   ]
  },
  {
   "cell_type": "code",
   "execution_count": 181,
   "metadata": {},
   "outputs": [
    {
     "data": {
      "text/plain": [
       "{'bodies': [<matplotlib.collections.PolyCollection at 0x236f74c54e0>],\n",
       " 'cmaxes': <matplotlib.collections.LineCollection at 0x236f6474780>,\n",
       " 'cmins': <matplotlib.collections.LineCollection at 0x236f74c5908>,\n",
       " 'cbars': <matplotlib.collections.LineCollection at 0x236f74c5b70>}"
      ]
     },
     "execution_count": 181,
     "metadata": {},
     "output_type": "execute_result"
    },
    {
     "data": {
      "image/png": "[encoded data removed]",
      "text/plain": [
       "<Figure size 432x288 with 1 Axes>"
      ]
     },
     "metadata": {},
     "output_type": "display_data"
    }
   ],
   "source": [
    "fig, axes = plt.subplots() #creating a violinplot\n",
    "axes.violinplot(same_r_price)"
   ]
  },
  {
   "cell_type": "code",
   "execution_count": 182,
   "metadata": {},
   "outputs": [
    {
     "data": {
      "text/plain": [
       "{'bodies': [<matplotlib.collections.PolyCollection at 0x236f751ef60>],\n",
       " 'cmaxes': <matplotlib.collections.LineCollection at 0x236f621abe0>,\n",
       " 'cmins': <matplotlib.collections.LineCollection at 0x236f752a3c8>,\n",
       " 'cbars': <matplotlib.collections.LineCollection at 0x236f752a630>}"
      ]
     },
     "execution_count": 182,
     "metadata": {},
     "output_type": "execute_result"
    },
    {
     "data": {
      "image/png": "[encoded data removed]",
      "text/plain": [
       "<Figure size 432x288 with 1 Axes>"
      ]
     },
     "metadata": {},
     "output_type": "display_data"
    }
   ],
   "source": [
    "fig, axes = plt.subplots() #creating a violinplot\n",
    "axes.violinplot(diff_r_price)"
   ]
  },
  {
   "cell_type": "code",
   "execution_count": 188,
   "metadata": {},
   "outputs": [
    {
     "data": {
      "text/plain": [
       "count    660.000000\n",
       "mean      23.855547\n",
       "std       14.217361\n",
       "min        2.000000\n",
       "25%       15.237500\n",
       "50%       20.750000\n",
       "75%       28.000000\n",
       "max      123.790000\n",
       "Name: UnitPrice, dtype: float64"
      ]
     },
     "execution_count": 188,
     "metadata": {},
     "output_type": "execute_result"
    }
   ],
   "source": [
    "diff_r_price.describe() #let's take a closer look"
   ]
  },
  {
   "cell_type": "markdown",
   "metadata": {},
   "source": [
    "It looks like our diff_r_price is a bit more spread out than our same_r_price. Let's remove the max value (263) so that our data is a little bit more normal."
   ]
  },
  {
   "cell_type": "code",
   "execution_count": 22,
   "metadata": {},
   "outputs": [],
   "source": [
    "data_Q2 = data_Q2[data_Q2.UnitPrice != 263.5] #dropping 263.5 from our dataframe"
   ]
  },
  {
   "cell_type": "markdown",
   "metadata": {},
   "source": [
    "Let's compare summary statistics for our new columns and see if we spot any trends right off the bat."
   ]
  },
  {
   "cell_type": "code",
   "execution_count": 189,
   "metadata": {
    "scrolled": false
   },
   "outputs": [
    {
     "name": "stdout",
     "output_type": "stream",
     "text": [
      "Same Region Price Stats:\n",
      "\n",
      " count    140.000000\n",
      "mean      26.919064\n",
      "std       14.954526\n",
      "min        2.500000\n",
      "25%       16.562500\n",
      "50%       23.825000\n",
      "75%       32.162500\n",
      "max       81.000000\n",
      "Name: UnitPrice, dtype: float64\n",
      "\n",
      "Different Region Price Stats:\n",
      "\n",
      " count    660.000000\n",
      "mean      23.855547\n",
      "std       14.217361\n",
      "min        2.000000\n",
      "25%       15.237500\n",
      "50%       20.750000\n",
      "75%       28.000000\n",
      "max      123.790000\n",
      "Name: UnitPrice, dtype: float64\n"
     ]
    }
   ],
   "source": [
    "print(\"Same Region Price Stats:\\n\\n\", same_r_price.describe()) #obtaining summary stats\n",
    "print(\"\\nDifferent Region Price Stats:\\n\\n\",diff_r_price.describe())"
   ]
  },
  {
   "cell_type": "code",
   "execution_count": 190,
   "metadata": {
    "scrolled": false
   },
   "outputs": [
    {
     "name": "stdout",
     "output_type": "stream",
     "text": [
      "Same Region Quantity Stats:\n",
      "\n",
      " count    140.000000\n",
      "mean      24.983548\n",
      "std       14.476155\n",
      "min        2.000000\n",
      "25%       14.125000\n",
      "50%       24.000000\n",
      "75%       34.150000\n",
      "max       75.000000\n",
      "Name: Quantity, dtype: float64\n",
      "\n",
      "Different Region Quantity Stats:\n",
      "\n",
      " count    661.000000\n",
      "mean      22.538427\n",
      "std       14.281011\n",
      "min        1.000000\n",
      "25%       12.666667\n",
      "50%       20.000000\n",
      "75%       28.333333\n",
      "max       86.500000\n",
      "Name: Quantity, dtype: float64\n"
     ]
    }
   ],
   "source": [
    "print(\"Same Region Quantity Stats:\\n\\n\", same_r_quantity.describe()) #obtaining summary stats\n",
    "print(\"\\nDifferent Region Quantity Stats:\\n\\n\", diff_r_quantity.describe())"
   ]
  },
  {
   "cell_type": "markdown",
   "metadata": {},
   "source": [
    "So far, it looks like customers from the same region as their corresponding employees have a slightly higher average value for their orders as well as a slightly higher quantity for their orders. Let's go ahead and run an ANOVA to see if the difference is actually statistically significant."
   ]
  },
  {
   "cell_type": "markdown",
   "metadata": {},
   "source": [
    "### Q2a: If a customer and the employee responsible for their order are from the same region, will the customer spend more money on their order?"
   ]
  },
  {
   "cell_type": "markdown",
   "metadata": {},
   "source": [
    "$H_0$: There is no difference in the average monetary value for orders made by customer's who live in the same region as the employee who helps them.\n",
    "\n",
    "$H_a$: There is a difference in the average monetary value for orders made by customer's who live in the same region as the employee who helps them."
   ]
  },
  {
   "cell_type": "code",
   "execution_count": 24,
   "metadata": {},
   "outputs": [
    {
     "name": "stdout",
     "output_type": "stream",
     "text": [
      "                            OLS Regression Results                            \n",
      "==============================================================================\n",
      "Dep. Variable:              UnitPrice   R-squared:                       0.002\n",
      "Model:                            OLS   Adj. R-squared:                  0.002\n",
      "Method:                 Least Squares   F-statistic:                     4.441\n",
      "Date:                Thu, 11 Apr 2019   Prob (F-statistic):             0.0352\n",
      "Time:                        11:14:55   Log-Likelihood:                -9254.4\n",
      "No. Observations:                2062   AIC:                         1.851e+04\n",
      "Df Residuals:                    2060   BIC:                         1.852e+04\n",
      "Df Model:                           1                                         \n",
      "Covariance Type:            nonrobust                                         \n",
      "==========================================================================================\n",
      "                             coef    std err          t      P>|t|      [0.025      0.975]\n",
      "------------------------------------------------------------------------------------------\n",
      "Intercept                 23.9556      0.526     45.517      0.000      22.923      24.988\n",
      "C(same_region)[T.same]     2.5568      1.213      2.107      0.035       0.177       4.936\n",
      "==============================================================================\n",
      "Omnibus:                     1683.473   Durbin-Watson:                   1.928\n",
      "Prob(Omnibus):                  0.000   Jarque-Bera (JB):            48007.990\n",
      "Skew:                           3.701   Prob(JB):                         0.00\n",
      "Kurtosis:                      25.450   Cond. No.                         2.66\n",
      "==============================================================================\n",
      "\n",
      "Warnings:\n",
      "[1] Standard Errors assume that the covariance matrix of the errors is correctly specified.\n",
      "                       sum_sq      df         F    PR(>F)\n",
      "C(same_region)    2059.178074     1.0  4.440898  0.035208\n",
      "Residual        955191.195935  2060.0       NaN       NaN\n"
     ]
    }
   ],
   "source": [
    "#once again running our ANOVA test\n",
    "formula = 'UnitPrice ~ C(same_region)' #defining our formula\n",
    "lm = ols(formula, data_Q2).fit() #fitting the model\n",
    "print(lm.summary())\n",
    "table = sm.stats.anova_lm(lm, typ=2) #retrieving f-values and p-values\n",
    "print(table)"
   ]
  },
  {
   "cell_type": "code",
   "execution_count": 26,
   "metadata": {},
   "outputs": [
    {
     "name": "stdout",
     "output_type": "stream",
     "text": [
      "Multiple Comparison of Means - Tukey HSD,FWER=0.05\n",
      "===========================================\n",
      "group1 group2 meandiff lower  upper  reject\n",
      "-------------------------------------------\n",
      " diff   same   2.5568  0.1774 4.9362  True \n",
      "-------------------------------------------\n"
     ]
    }
   ],
   "source": [
    "mod = MultiComparison(data_Q2['UnitPrice'], data_Q2['same_region']) #defining the formula and running the Tukey test\n",
    "print(mod.tukeyhsd())"
   ]
  },
  {
   "cell_type": "markdown",
   "metadata": {},
   "source": [
    "According to our Tukey test, we can reject our null hypothesis. It looks like customers will have have higher average values on their orders if the employee who is helping them is from the same region as they are."
   ]
  },
  {
   "cell_type": "markdown",
   "metadata": {},
   "source": [
    "### Q2b: If a customer and the employee who helps them are from the same region, will they have a higher average quantity for their order?"
   ]
  },
  {
   "cell_type": "markdown",
   "metadata": {},
   "source": [
    "$H_0$: There is no difference in the average quantity of orders made by customer's who live in the same region as the employee who helps them.\n",
    "\n",
    "$H_a$: There is a difference in the average quantity of orders made by customer's who live in the same region as the employee who helps them."
   ]
  },
  {
   "cell_type": "code",
   "execution_count": 27,
   "metadata": {},
   "outputs": [
    {
     "name": "stdout",
     "output_type": "stream",
     "text": [
      "                            OLS Regression Results                            \n",
      "==============================================================================\n",
      "Dep. Variable:               Quantity   R-squared:                       0.001\n",
      "Model:                            OLS   Adj. R-squared:                  0.000\n",
      "Method:                 Least Squares   F-statistic:                     1.203\n",
      "Date:                Thu, 11 Apr 2019   Prob (F-statistic):              0.273\n",
      "Time:                        11:17:50   Log-Likelihood:                -9013.4\n",
      "No. Observations:                2062   AIC:                         1.803e+04\n",
      "Df Residuals:                    2060   BIC:                         1.804e+04\n",
      "Df Model:                           1                                         \n",
      "Covariance Type:            nonrobust                                         \n",
      "==========================================================================================\n",
      "                             coef    std err          t      P>|t|      [0.025      0.975]\n",
      "------------------------------------------------------------------------------------------\n",
      "Intercept                 23.7157      0.468     50.648      0.000      22.797      24.634\n",
      "C(same_region)[T.same]     1.1838      1.079      1.097      0.273      -0.933       3.301\n",
      "==============================================================================\n",
      "Omnibus:                      757.928   Durbin-Watson:                   1.624\n",
      "Prob(Omnibus):                  0.000   Jarque-Bera (JB):             2919.139\n",
      "Skew:                           1.787   Prob(JB):                         0.00\n",
      "Kurtosis:                       7.605   Cond. No.                         2.66\n",
      "==============================================================================\n",
      "\n",
      "Warnings:\n",
      "[1] Standard Errors assume that the covariance matrix of the errors is correctly specified.\n",
      "                       sum_sq      df         F    PR(>F)\n",
      "C(same_region)     441.448145     1.0  1.202739  0.272903\n",
      "Residual        756093.729837  2060.0       NaN       NaN\n"
     ]
    }
   ],
   "source": [
    "#once again running our ANOVA test\n",
    "formula = 'Quantity ~ C(same_region)' #defining our formula\n",
    "lm = ols(formula, data_Q2).fit() #fitting the model\n",
    "print(lm.summary())\n",
    "table = sm.stats.anova_lm(lm, typ=2) #retrieving f-values and p-values\n",
    "print(table)"
   ]
  },
  {
   "cell_type": "code",
   "execution_count": 28,
   "metadata": {},
   "outputs": [
    {
     "name": "stdout",
     "output_type": "stream",
     "text": [
      "Multiple Comparison of Means - Tukey HSD,FWER=0.05\n",
      "============================================\n",
      "group1 group2 meandiff  lower  upper  reject\n",
      "--------------------------------------------\n",
      " diff   same   1.1838  -0.9331 3.3008 False \n",
      "--------------------------------------------\n"
     ]
    }
   ],
   "source": [
    "mod = MultiComparison(data_Q2['Quantity'], data_Q2['same_region']) #defining the formula and running the Tukey test\n",
    "print(mod.tukeyhsd())"
   ]
  },
  {
   "cell_type": "markdown",
   "metadata": {},
   "source": [
    "It looks like the results of the Tukey test report that we fail to reject the null. While there is a statistically significant effect on common region and average order value, there is no significant effect between common region and average quantity of an order."
   ]
  },
  {
   "cell_type": "markdown",
   "metadata": {},
   "source": [
    "## Q3: Will products that reference a \"Chef\" in their name sell differently than the products that do not reference Chefs in their title?"
   ]
  },
  {
   "cell_type": "markdown",
   "metadata": {},
   "source": [
    "As I was exploring the data in the Product dataframe, I was curious about the creativity in the Product Name category. I noticed that a decent portion of the product names included the name of a \"Chef\", such as 'Sir Rodney's Scones' or 'Gnocchi di Nonna Alice'. I am curious if this establishs ethos or credibility with the target customer and thus increases sales of said product. I know that the name of a product is an important part of marketing, so I wonder if a \"chef-inspired\" product will encourage the consumer to buy more of said product or spend more on said product.\n",
    "\n",
    "\n",
    "\n",
    "To explore this idea, I created a new dataframe by joining the Product table and the Order Detail table."
   ]
  },
  {
   "cell_type": "code",
   "execution_count": 8,
   "metadata": {
    "scrolled": false
   },
   "outputs": [
    {
     "data": {
      "text/html": [
       "<div>\n",
       "<style scoped>\n",
       "    .dataframe tbody tr th:only-of-type {\n",
       "        vertical-align: middle;\n",
       "    }\n",
       "\n",
       "    .dataframe tbody tr th {\n",
       "        vertical-align: top;\n",
       "    }\n",
       "\n",
       "    .dataframe thead th {\n",
       "        text-align: right;\n",
       "    }\n",
       "</style>\n",
       "<table border=\"1\" class=\"dataframe\">\n",
       "  <thead>\n",
       "    <tr style=\"text-align: right;\">\n",
       "      <th></th>\n",
       "      <th>Id</th>\n",
       "      <th>ProductName</th>\n",
       "      <th>Quantity</th>\n",
       "      <th>UnitPrice</th>\n",
       "    </tr>\n",
       "  </thead>\n",
       "  <tbody>\n",
       "    <tr>\n",
       "      <th>0</th>\n",
       "      <td>11</td>\n",
       "      <td>Queso Cabrales</td>\n",
       "      <td>12</td>\n",
       "      <td>14.0</td>\n",
       "    </tr>\n",
       "    <tr>\n",
       "      <th>1</th>\n",
       "      <td>42</td>\n",
       "      <td>Singaporean Hokkien Fried Mee</td>\n",
       "      <td>10</td>\n",
       "      <td>9.8</td>\n",
       "    </tr>\n",
       "    <tr>\n",
       "      <th>2</th>\n",
       "      <td>72</td>\n",
       "      <td>Mozzarella di Giovanni</td>\n",
       "      <td>5</td>\n",
       "      <td>34.8</td>\n",
       "    </tr>\n",
       "    <tr>\n",
       "      <th>3</th>\n",
       "      <td>14</td>\n",
       "      <td>Tofu</td>\n",
       "      <td>9</td>\n",
       "      <td>18.6</td>\n",
       "    </tr>\n",
       "    <tr>\n",
       "      <th>4</th>\n",
       "      <td>51</td>\n",
       "      <td>Manjimup Dried Apples</td>\n",
       "      <td>40</td>\n",
       "      <td>42.4</td>\n",
       "    </tr>\n",
       "  </tbody>\n",
       "</table>\n",
       "</div>"
      ],
      "text/plain": [
       "   Id                    ProductName  Quantity  UnitPrice\n",
       "0  11                 Queso Cabrales        12       14.0\n",
       "1  42  Singaporean Hokkien Fried Mee        10        9.8\n",
       "2  72         Mozzarella di Giovanni         5       34.8\n",
       "3  14                           Tofu         9       18.6\n",
       "4  51          Manjimup Dried Apples        40       42.4"
      ]
     },
     "execution_count": 8,
     "metadata": {},
     "output_type": "execute_result"
    }
   ],
   "source": [
    "#creating separate dataframe for Q3\n",
    "#first I will select the data I want from each table\n",
    "#then I will join the tables using the common ID\n",
    "data_Q3 = pd.read_sql_query('''\n",
    "\n",
    "                                \n",
    "                                SELECT P.Id, P.ProductName, OD.Quantity, OD.UnitPrice\n",
    "                                FROM PRODUCT AS P \n",
    "                                JOIN OrderDetail AS OD\n",
    "                                ON P.Id = ProductId\n",
    "                                \n",
    "                                ''', conn)\n",
    "\n",
    "data_Q3.head() #let's check our work"
   ]
  },
  {
   "cell_type": "markdown",
   "metadata": {},
   "source": [
    "There were 77 unique product names (listed below). To separate the chef-inspired products to those that were not, I went through and made a list of the product names referencing Chefs. Many of the product names were not in English, so I made use of google to help distinguish whether the names were referencing chefs or not."
   ]
  },
  {
   "cell_type": "code",
   "execution_count": 229,
   "metadata": {},
   "outputs": [
    {
     "data": {
      "text/plain": [
       "array(['Queso Cabrales', 'Singaporean Hokkien Fried Mee',\n",
       "       'Mozzarella di Giovanni', 'Tofu', 'Manjimup Dried Apples',\n",
       "       \"Jack's New England Clam Chowder\",\n",
       "       'Louisiana Fiery Hot Pepper Sauce', \"Gustaf's Knäckebröd\",\n",
       "       'Ravioli Angelo', \"Sir Rodney's Marmalade\", 'Geitost',\n",
       "       'Camembert Pierrot', 'Gorgonzola Telino', 'Chartreuse verte',\n",
       "       'Maxilaku', 'Guaraná Fantástica', 'Pâté chinois', 'Longlife Tofu',\n",
       "       'Chang', 'Pavlova', 'Inlagd Sill', 'Raclette Courdavault',\n",
       "       'Perth Pasties', 'Original Frankfurter grüne Soße',\n",
       "       'Schoggi Schokolade', \"Chef Anton's Gumbo Mix\",\n",
       "       'Mascarpone Fabioli', \"Sir Rodney's Scones\", 'Gravad lax',\n",
       "       'Tarte au sucre', 'Outback Lager', 'Steeleye Stout',\n",
       "       \"Uncle Bob's Organic Dried Pears\", 'Gnocchi di nonna Alice',\n",
       "       'Nord-Ost Matjeshering', 'Alice Mutton',\n",
       "       'Queso Manchego La Pastora', 'Boston Crab Meat', 'Lakkalikööri',\n",
       "       'Thüringer Rostbratwurst', 'Ipoh Coffee', 'Ikura', 'Flotemysost',\n",
       "       'Konbu', 'Rössle Sauerkraut', 'Gula Malacca', 'Vegie-spread',\n",
       "       'Röd Kaviar', 'Rhönbräu Klosterbier', 'Teatime Chocolate Biscuits',\n",
       "       'Genen Shouyu', 'Laughing Lumberjack Lager', 'Chai',\n",
       "       'Sasquatch Ale', 'Spegesild', 'Tourtière', 'Scottish Longbreads',\n",
       "       'Aniseed Syrup', 'Wimmers gute Semmelknödel', 'Carnarvon Tigers',\n",
       "       'Gudbrandsdalsost', 'Louisiana Hot Spiced Okra',\n",
       "       \"Chef Anton's Cajun Seasoning\", \"Grandma's Boysenberry Spread\",\n",
       "       'Escargots de Bourgogne', 'Filo Mix', 'NuNuCa Nuß-Nougat-Creme',\n",
       "       'Côte de Blaye', 'Gumbär Gummibärchen', 'Zaanse koeken',\n",
       "       'Tunnbröd', 'Northwoods Cranberry Sauce', 'Valkoinen suklaa',\n",
       "       'Rogede sild', 'Chocolade', \"Sirop d'érable\", 'Mishi Kobe Niku'],\n",
       "      dtype=object)"
      ]
     },
     "execution_count": 229,
     "metadata": {},
     "output_type": "execute_result"
    }
   ],
   "source": [
    "data_Q3.ProductName.unique() #list of unique product names for reference"
   ]
  },
  {
   "cell_type": "code",
   "execution_count": 9,
   "metadata": {
    "scrolled": true
   },
   "outputs": [
    {
     "data": {
      "text/html": [
       "<div>\n",
       "<style scoped>\n",
       "    .dataframe tbody tr th:only-of-type {\n",
       "        vertical-align: middle;\n",
       "    }\n",
       "\n",
       "    .dataframe tbody tr th {\n",
       "        vertical-align: top;\n",
       "    }\n",
       "\n",
       "    .dataframe thead th {\n",
       "        text-align: right;\n",
       "    }\n",
       "</style>\n",
       "<table border=\"1\" class=\"dataframe\">\n",
       "  <thead>\n",
       "    <tr style=\"text-align: right;\">\n",
       "      <th></th>\n",
       "      <th>Id</th>\n",
       "      <th>ProductName</th>\n",
       "      <th>Quantity</th>\n",
       "      <th>UnitPrice</th>\n",
       "      <th>includes_chef</th>\n",
       "    </tr>\n",
       "  </thead>\n",
       "  <tbody>\n",
       "    <tr>\n",
       "      <th>0</th>\n",
       "      <td>11</td>\n",
       "      <td>Queso Cabrales</td>\n",
       "      <td>12</td>\n",
       "      <td>14.0</td>\n",
       "      <td>no</td>\n",
       "    </tr>\n",
       "    <tr>\n",
       "      <th>1</th>\n",
       "      <td>42</td>\n",
       "      <td>Singaporean Hokkien Fried Mee</td>\n",
       "      <td>10</td>\n",
       "      <td>9.8</td>\n",
       "      <td>no</td>\n",
       "    </tr>\n",
       "    <tr>\n",
       "      <th>2</th>\n",
       "      <td>72</td>\n",
       "      <td>Mozzarella di Giovanni</td>\n",
       "      <td>5</td>\n",
       "      <td>34.8</td>\n",
       "      <td>yes</td>\n",
       "    </tr>\n",
       "    <tr>\n",
       "      <th>3</th>\n",
       "      <td>14</td>\n",
       "      <td>Tofu</td>\n",
       "      <td>9</td>\n",
       "      <td>18.6</td>\n",
       "      <td>no</td>\n",
       "    </tr>\n",
       "    <tr>\n",
       "      <th>4</th>\n",
       "      <td>51</td>\n",
       "      <td>Manjimup Dried Apples</td>\n",
       "      <td>40</td>\n",
       "      <td>42.4</td>\n",
       "      <td>no</td>\n",
       "    </tr>\n",
       "  </tbody>\n",
       "</table>\n",
       "</div>"
      ],
      "text/plain": [
       "   Id                    ProductName  Quantity  UnitPrice includes_chef\n",
       "0  11                 Queso Cabrales        12       14.0            no\n",
       "1  42  Singaporean Hokkien Fried Mee        10        9.8            no\n",
       "2  72         Mozzarella di Giovanni         5       34.8           yes\n",
       "3  14                           Tofu         9       18.6            no\n",
       "4  51          Manjimup Dried Apples        40       42.4            no"
      ]
     },
     "execution_count": 9,
     "metadata": {},
     "output_type": "execute_result"
    }
   ],
   "source": [
    "#creating a new column in our dataframe based on whether or not the product name includes a chef\n",
    "data_Q3['includes_chef'] = np.where((data_Q3['ProductName'] == \"Chef Anton's Cajun Seasoning\") | (data_Q3['ProductName'] == \"Chef Anton's Gumbo Mix\") | (data_Q3['ProductName'] == \"Grandma's Boysenberry Spread\") |\n",
    "(data_Q3['ProductName'] == \"Uncle Bob's Organic Dried Pears\") | (data_Q3['ProductName'] == \"Sir Rodney's Marmalade\") | (data_Q3['ProductName'] == \"Sir Rodney's Scones\") |\n",
    "(data_Q3['ProductName'] == \"Gustaf's Knäckebröd\") | (data_Q3['ProductName'] == 'Gumbär Gummibärchen') | (data_Q3['ProductName'] == \"Jack's New England Clam Chowder\")|\n",
    "(data_Q3['ProductName'] == 'Gnocchi di nonna Alice') | (data_Q3['ProductName'] == 'Mozzarella di Giovanni'), 'yes', 'no')\n",
    "\n",
    "data_Q3.head()"
   ]
  },
  {
   "cell_type": "markdown",
   "metadata": {},
   "source": [
    "Now to continue with some Exploratory Data Analysis, let's go ahead and group our chef and non-chef data by average quantity. I will then take distribution plots of our two new data groupings to compare the shape and check normality."
   ]
  },
  {
   "cell_type": "code",
   "execution_count": 88,
   "metadata": {},
   "outputs": [],
   "source": [
    "chef_quantity = data_Q3[data_Q3['includes_chef'] == 'yes'].groupby('ProductName')['Quantity'].mean()\n",
    "no_chef_quantity = data_Q3[data_Q3['includes_chef'] == 'no'].groupby('ProductName')['Quantity'].mean()"
   ]
  },
  {
   "cell_type": "code",
   "execution_count": 98,
   "metadata": {},
   "outputs": [
    {
     "name": "stderr",
     "output_type": "stream",
     "text": [
      "C:\\Users\\Emily\\Anaconda3\\Newfolder\\lib\\site-packages\\matplotlib\\axes\\_axes.py:6462: UserWarning: The 'normed' kwarg is deprecated, and has been replaced by the 'density' kwarg.\n",
      "  warnings.warn(\"The 'normed' kwarg is deprecated, and has been \"\n",
      "C:\\Users\\Emily\\Anaconda3\\Newfolder\\lib\\site-packages\\matplotlib\\axes\\_axes.py:6462: UserWarning: The 'normed' kwarg is deprecated, and has been replaced by the 'density' kwarg.\n",
      "  warnings.warn(\"The 'normed' kwarg is deprecated, and has been \"\n"
     ]
    },
    {
     "data": {
      "image/png": "[encoded data removed]",
      "text/plain": [
       "<Figure size 1296x720 with 1 Axes>"
      ]
     },
     "metadata": {},
     "output_type": "display_data"
    }
   ],
   "source": [
    "sns.set(color_codes=True) #creating our dist plots\n",
    "sns.set(rc={'figure.figsize':(18, 10)})\n",
    "sns.distplot(chef_quantity, label='Chef in Name'); # Blue distribution for chef data\n",
    "sns.distplot(no_chef_quantity, label='No Chef in Name'); # Green distribution for non-chef data\n",
    "plt.legend()\n",
    "plt.show();"
   ]
  },
  {
   "cell_type": "markdown",
   "metadata": {},
   "source": [
    "It looks like our data is fairly normal! I do see that the chef data is slightly multi-modal and that the right tail of our non-chef data is a little spread out, but I am mostly satisfied with these distributions. I can also see that my hunch might be correct, it does look like our chef products might sell in higher quantities! Let's look at some numbers to investigate this further."
   ]
  },
  {
   "cell_type": "code",
   "execution_count": 94,
   "metadata": {},
   "outputs": [
    {
     "name": "stdout",
     "output_type": "stream",
     "text": [
      "Chef Name Largest:\n"
     ]
    },
    {
     "data": {
      "text/plain": [
       "ProductName\n",
       "Chef Anton's Gumbo Mix             29.800000\n",
       "Uncle Bob's Organic Dried Pears    26.310345\n",
       "Sir Rodney's Scones                26.051282\n",
       "Gnocchi di nonna Alice             25.260000\n",
       "Grandma's Boysenberry Spread       25.083333\n",
       "Name: Quantity, dtype: float64"
      ]
     },
     "execution_count": 94,
     "metadata": {},
     "output_type": "execute_result"
    }
   ],
   "source": [
    "print(\"Chef Name Largest:\")\n",
    "chef_quantity.nlargest(5) #I'm curious about the top five highest values in my data"
   ]
  },
  {
   "cell_type": "code",
   "execution_count": 93,
   "metadata": {},
   "outputs": [
    {
     "name": "stdout",
     "output_type": "stream",
     "text": [
      "No Chef Name Largest:\n"
     ]
    },
    {
     "data": {
      "text/plain": [
       "ProductName\n",
       "Schoggi Schokolade           40.555556\n",
       "Rogede sild                  36.285714\n",
       "Camembert Pierrot            30.921569\n",
       "Louisiana Hot Spiced Okra    29.875000\n",
       "Escargots de Bourgogne       29.666667\n",
       "Name: Quantity, dtype: float64"
      ]
     },
     "execution_count": 93,
     "metadata": {},
     "output_type": "execute_result"
    }
   ],
   "source": [
    "print(\"No Chef Name Largest:\") \n",
    "no_chef_quantity.nlargest(5)"
   ]
  },
  {
   "cell_type": "markdown",
   "metadata": {},
   "source": [
    "Looking at these numbers, it looks like the top values in no_chef are much higher than in chef. This might also be because we have a lot more data in our no_chef category, as only 11 out of the 77 product names referenced chef names. In general, as the amount of data in a category grows, so does the range of values. Let's continue with EDA for our unitprice and includes_chef variables."
   ]
  },
  {
   "cell_type": "code",
   "execution_count": 97,
   "metadata": {},
   "outputs": [],
   "source": [
    "#grouping our data by chef/no-chef and price per product\n",
    "chef_price = data_Q3[data_Q3['includes_chef'] == 'yes'].groupby('ProductName')['UnitPrice'].mean()\n",
    "no_chef_price= data_Q3[data_Q3['includes_chef'] == 'no'].groupby('ProductName')['UnitPrice'].mean()"
   ]
  },
  {
   "cell_type": "code",
   "execution_count": 62,
   "metadata": {
    "scrolled": false
   },
   "outputs": [
    {
     "name": "stderr",
     "output_type": "stream",
     "text": [
      "C:\\Users\\Emily\\Anaconda3\\Newfolder\\lib\\site-packages\\matplotlib\\axes\\_axes.py:6462: UserWarning: The 'normed' kwarg is deprecated, and has been replaced by the 'density' kwarg.\n",
      "  warnings.warn(\"The 'normed' kwarg is deprecated, and has been \"\n",
      "C:\\Users\\Emily\\Anaconda3\\Newfolder\\lib\\site-packages\\matplotlib\\axes\\_axes.py:6462: UserWarning: The 'normed' kwarg is deprecated, and has been replaced by the 'density' kwarg.\n",
      "  warnings.warn(\"The 'normed' kwarg is deprecated, and has been \"\n"
     ]
    },
    {
     "data": {
      "image/png": "[encoded data removed]",
      "text/plain": [
       "<Figure size 1296x720 with 1 Axes>"
      ]
     },
     "metadata": {},
     "output_type": "display_data"
    }
   ],
   "source": [
    "sns.set(color_codes=True) #creating our histograms\n",
    "sns.set(rc={'figure.figsize':(18, 10)})\n",
    "sns.distplot(chef_price, label='Chef in Name', color = 'pink'); # PINK distribution for chef data (different from Quantity distplots)\n",
    "sns.distplot(no_chef_price, label='No Chef in Name', color = 'skyblue'); # SKY-BLUE distribution for non-chef data\n",
    "plt.legend()\n",
    "plt.show();"
   ]
  },
  {
   "cell_type": "markdown",
   "metadata": {},
   "source": [
    "Once again, because we have a lot more data in our non-chef group, the distribution is much more spread out. However, it does look like both groups are relatively normal. Let's remove our products that are in the 200.00 dollar range like we did in our common-region data to normalize our data and give our chef group a fighting chance. I think this will also be important to analyzing our chef vs. quantity data, because people will probably buy much smaller quantities of products that are over 200.00 compared to the products that roughly 100.00 dollars cheaper."
   ]
  },
  {
   "cell_type": "code",
   "execution_count": 83,
   "metadata": {},
   "outputs": [
    {
     "name": "stdout",
     "output_type": "stream",
     "text": [
      "[2.0, 2.5, 3.6, 4.5, 4.8, 5.6, 5.9, 6.0, 6.2, 7.0, 7.2, 7.3, 7.45, 7.6, 7.7, 7.75, 8.0, 9.0, 9.2, 9.5, 9.6, 9.65, 9.8, 10.0, 10.2, 10.4, 10.6, 11.2, 12.0, 12.4, 12.5, 12.75, 13.0, 13.25, 13.6, 13.9, 14.0, 14.4, 14.7, 15.0, 15.2, 15.5, 15.6, 16.0, 16.25, 16.8, 17.0, 17.2, 17.45, 17.6, 18.0, 18.4, 18.6, 19.0, 19.2, 19.45, 19.5, 20.0, 20.7, 20.8, 21.0, 21.05, 21.35, 21.5, 22.0, 22.8, 23.25, 24.0, 24.8, 24.9, 25.0, 25.6, 25.89, 26.0, 26.2, 26.6, 27.2, 27.8, 28.5, 28.8, 30.0, 30.4, 31.0, 31.2, 31.23, 32.0, 32.8, 33.25, 34.0, 34.8, 35.1, 36.0, 36.4, 36.8, 38.0, 39.0, 39.4, 40.0, 42.4, 43.9, 44.0, 45.6, 46.0, 49.3, 50.0, 53.0, 55.0, 62.5, 64.8, 77.6, 81.0, 97.0, 99.0, 123.79]\n"
     ]
    }
   ],
   "source": [
    "a = data_Q3.UnitPrice.unique() #closer look at our spread of data in our price column\n",
    "print (sorted(a))"
   ]
  },
  {
   "cell_type": "code",
   "execution_count": 74,
   "metadata": {},
   "outputs": [],
   "source": [
    "#there are only 2 products that are over 200.00, and the third highest priced-product is only $123.00\n",
    "data_Q3 = data_Q3[data_Q3.UnitPrice < 210 ] #removing products that cost more than $200.00"
   ]
  },
  {
   "cell_type": "markdown",
   "metadata": {},
   "source": [
    "Let's move on to running our hypothesis tests."
   ]
  },
  {
   "cell_type": "markdown",
   "metadata": {},
   "source": [
    "### Q3a: Will products that reference a \"Chef\" in their name sell in larger quantities on average than the products that do not reference Chefs in their title?"
   ]
  },
  {
   "cell_type": "markdown",
   "metadata": {},
   "source": [
    "$H_0$: There is no difference in the averge quantity sold of products that reference a chef in their name versus products that do not reference chefs in their title.\n",
    "\n",
    "$H_a$: There is a difference in the averge quantity sold of products that reference a chef in their name versus products that do not reference chefs in their title."
   ]
  },
  {
   "cell_type": "code",
   "execution_count": 96,
   "metadata": {},
   "outputs": [
    {
     "name": "stdout",
     "output_type": "stream",
     "text": [
      "                         sum_sq      df         F    PR(>F)\n",
      "C(includes_chef)       0.254098     1.0  0.000701  0.978879\n",
      "Residual          771624.720093  2129.0       NaN       NaN\n"
     ]
    }
   ],
   "source": [
    "formula = 'Quantity ~ C(includes_chef)' #running our ANOVA\n",
    "model = ols(formula, data_Q3).fit()\n",
    "table = sm.stats.anova_lm(model, typ=2)\n",
    "print(table)"
   ]
  },
  {
   "cell_type": "markdown",
   "metadata": {},
   "source": [
    "That is a very large p-value. it is far above .05, so we fail to reject our null hypothesis for chef-names and average order quantity. Sorry, Chef Anton! \n",
    "\n",
    "Perhaps in the future it would be beneficial to expand this experiment using products that have names that include proper names, as I noticed that 3 out of 5 of the highest-selling non-chef products included names of cities (Camembert Pierrot, Louisiana Hot Spiced Okra, Escargots de Bourgogne).  \n",
    "\n",
    "Let's move on to looking at prices of products with chefs referenced in their title."
   ]
  },
  {
   "cell_type": "markdown",
   "metadata": {},
   "source": [
    "### Q3b: Will customers pay more for products that reference a \"Chef\" in their name than the products that do not reference Chefs in their title?"
   ]
  },
  {
   "cell_type": "markdown",
   "metadata": {},
   "source": [
    "$H_0$: On average, customers will not pay more for products that reference a \"Chef\" in their name than the products that do not reference Chefs in their title.\n",
    "\n",
    "$H_a$: On average, customers will pay more for products that reference a \"Chef\" in their name than the products that do not reference Chefs in their title."
   ]
  },
  {
   "cell_type": "code",
   "execution_count": 95,
   "metadata": {},
   "outputs": [
    {
     "name": "stdout",
     "output_type": "stream",
     "text": [
      "                         sum_sq      df         F    PR(>F)\n",
      "C(includes_chef)    1690.954024     1.0  4.943633  0.026292\n",
      "Residual          728217.679211  2129.0       NaN       NaN\n"
     ]
    }
   ],
   "source": [
    "formula = 'UnitPrice ~ C(includes_chef)' #running our ANOVA\n",
    "model = ols(formula, data_Q3).fit()\n",
    "table = sm.stats.anova_lm(model, typ=2)\n",
    "print(table)"
   ]
  },
  {
   "cell_type": "markdown",
   "metadata": {},
   "source": [
    "It looks like we can reject our null hypothesis and confidently say that there is a statistically significant difference between the means of unit prices of products with chefs in their name compared to products without chefs in their name! \n",
    "\n",
    "*Note: This experiment was not perfect because there were a lot of confounding variables in our data, such as the fact that as previously mentioned, there was a lot more data for our non-chef group as well as the fact that the products were pretty different from eachother. It would be more meaningful to repeat this experiment only using data for a single product or at least similiar products, such as pasta sauce or cookies.*"
   ]
  },
  {
   "cell_type": "markdown",
   "metadata": {},
   "source": [
    "## Q4: Will the average re-order level differ between shipping companies?"
   ]
  },
  {
   "cell_type": "markdown",
   "metadata": {},
   "source": [
    "In my experience, consumers appreciate when their orders are shipped in a timely fashion and their products arrive undamaged. I wonder if people will associate good shipping experiences with the product they recieved and thus be more motivated to re-order it.\n",
    "\n",
    "I joined the Product table, Shipper table, Order table, and OrderDetail table to create data_Q4 so that I could find an answer to my question."
   ]
  },
  {
   "cell_type": "code",
   "execution_count": 131,
   "metadata": {
    "scrolled": false
   },
   "outputs": [
    {
     "data": {
      "text/html": [
       "<div>\n",
       "<style scoped>\n",
       "    .dataframe tbody tr th:only-of-type {\n",
       "        vertical-align: middle;\n",
       "    }\n",
       "\n",
       "    .dataframe tbody tr th {\n",
       "        vertical-align: top;\n",
       "    }\n",
       "\n",
       "    .dataframe thead th {\n",
       "        text-align: right;\n",
       "    }\n",
       "</style>\n",
       "<table border=\"1\" class=\"dataframe\">\n",
       "  <thead>\n",
       "    <tr style=\"text-align: right;\">\n",
       "      <th></th>\n",
       "      <th>ProductName</th>\n",
       "      <th>ReorderLevel</th>\n",
       "      <th>CompanyName</th>\n",
       "    </tr>\n",
       "  </thead>\n",
       "  <tbody>\n",
       "    <tr>\n",
       "      <th>0</th>\n",
       "      <td>Queso Cabrales</td>\n",
       "      <td>30</td>\n",
       "      <td>Speedy Express</td>\n",
       "    </tr>\n",
       "    <tr>\n",
       "      <th>1</th>\n",
       "      <td>Queso Cabrales</td>\n",
       "      <td>30</td>\n",
       "      <td>United Package</td>\n",
       "    </tr>\n",
       "    <tr>\n",
       "      <th>2</th>\n",
       "      <td>Queso Cabrales</td>\n",
       "      <td>30</td>\n",
       "      <td>Federal Shipping</td>\n",
       "    </tr>\n",
       "    <tr>\n",
       "      <th>3</th>\n",
       "      <td>Singaporean Hokkien Fried Mee</td>\n",
       "      <td>0</td>\n",
       "      <td>Speedy Express</td>\n",
       "    </tr>\n",
       "    <tr>\n",
       "      <th>4</th>\n",
       "      <td>Singaporean Hokkien Fried Mee</td>\n",
       "      <td>0</td>\n",
       "      <td>United Package</td>\n",
       "    </tr>\n",
       "  </tbody>\n",
       "</table>\n",
       "</div>"
      ],
      "text/plain": [
       "                     ProductName  ReorderLevel       CompanyName\n",
       "0                 Queso Cabrales            30    Speedy Express\n",
       "1                 Queso Cabrales            30    United Package\n",
       "2                 Queso Cabrales            30  Federal Shipping\n",
       "3  Singaporean Hokkien Fried Mee             0    Speedy Express\n",
       "4  Singaporean Hokkien Fried Mee             0    United Package"
      ]
     },
     "execution_count": 131,
     "metadata": {},
     "output_type": "execute_result"
    }
   ],
   "source": [
    "#creating separate dataframe for Q4\n",
    "#first I will select the data I want from each table\n",
    "#then I will join the tables using the common ID\n",
    "data_Q4 = pd.read_sql_query('''\n",
    "\n",
    "                                \n",
    "                                SELECT P.ProductName, P.ReorderLevel, S.CompanyName\n",
    "                                FROM [ORDER] AS O\n",
    "                                JOIN OrderDetail AS OD\n",
    "                                ON O.Id = OrderId\n",
    "                                JOIN PRODUCT AS P \n",
    "                                ON P.Id = ProductId\n",
    "                                JOIN Shipper AS S\n",
    "                                ON O.ShipVia = ShipVia\n",
    "                                ''', conn)\n",
    "\n",
    "data_Q4.head() #time to check our work"
   ]
  },
  {
   "cell_type": "code",
   "execution_count": 117,
   "metadata": {
    "scrolled": true
   },
   "outputs": [
    {
     "data": {
      "text/plain": [
       "array(['Speedy Express', 'United Package', 'Federal Shipping'],\n",
       "      dtype=object)"
      ]
     },
     "execution_count": 117,
     "metadata": {},
     "output_type": "execute_result"
    }
   ],
   "source": [
    "data_Q4.CompanyName.unique()"
   ]
  },
  {
   "cell_type": "markdown",
   "metadata": {},
   "source": [
    "We only have three different shipping companies: Speedy Express, United Package, and Federal Shipping. I will begin by grouping each shipping company by their average re-order level per product."
   ]
  },
  {
   "cell_type": "code",
   "execution_count": 133,
   "metadata": {},
   "outputs": [],
   "source": [
    "speedy = data_Q4[data_Q4['CompanyName'] == 'Speedy Express'].groupby('ProductName')['ReorderLevel'].mean()\n",
    "united = data_Q4[data_Q4['CompanyName'] == 'United Package'].groupby('ProductName')['ReorderLevel'].mean()\n",
    "federal = data_Q4[data_Q4['CompanyName'] == 'Federal Shipping'].groupby('ProductName')['ReorderLevel'].mean()"
   ]
  },
  {
   "cell_type": "code",
   "execution_count": 166,
   "metadata": {},
   "outputs": [
    {
     "data": {
      "image/png": "[encoded data removed]",
      "text/plain": [
       "<Figure size 576x432 with 1 Axes>"
      ]
     },
     "metadata": {},
     "output_type": "display_data"
    },
    {
     "data": {
      "image/png": "[encoded data removed]",
      "text/plain": [
       "<Figure size 576x432 with 1 Axes>"
      ]
     },
     "metadata": {},
     "output_type": "display_data"
    },
    {
     "data": {
      "image/png": "[encoded data removed]",
      "text/plain": [
       "<Figure size 576x432 with 1 Axes>"
      ]
     },
     "metadata": {},
     "output_type": "display_data"
    }
   ],
   "source": [
    "speedy.hist(figsize=(8,6))\n",
    "plt.show()\n",
    "united.hist(figsize=(8,6))\n",
    "plt.show()\n",
    "federal.hist(figsize=(8,6))\n",
    "plt.show()"
   ]
  },
  {
   "cell_type": "code",
   "execution_count": 167,
   "metadata": {
    "scrolled": true
   },
   "outputs": [
    {
     "data": {
      "text/plain": [
       "United Package      2155\n",
       "Speedy Express      2155\n",
       "Federal Shipping    2155\n",
       "Name: CompanyName, dtype: int64"
      ]
     },
     "execution_count": 167,
     "metadata": {},
     "output_type": "execute_result"
    }
   ],
   "source": [
    "data_Q4.CompanyName.value_counts()"
   ]
  },
  {
   "cell_type": "markdown",
   "metadata": {},
   "source": [
    "Hmm. That's funny. It looks like each shipping company has been used the exact number of times and has almost the exactly same reorder levels. I have a feeling there will be no difference between the means of re-order level in each company, but let's run our ANOVA to be sure."
   ]
  },
  {
   "cell_type": "markdown",
   "metadata": {},
   "source": [
    " $H_0$: There is no difference in the average re-order levels between shipping companies.\n",
    " \n",
    " $H_a$: There is a difference in the average re-order levels between shipping companies."
   ]
  },
  {
   "cell_type": "code",
   "execution_count": 172,
   "metadata": {},
   "outputs": [
    {
     "name": "stdout",
     "output_type": "stream",
     "text": [
      "The null hypothesis cannot be rejected\n"
     ]
    }
   ],
   "source": [
    "formula = 'ReorderLevel ~ C(CompanyName)' #running our ANOVA\n",
    "model = ols(formula, data_Q4).fit()\n",
    "table = sm.stats.anova_lm(model, typ=2)\n",
    "alpha = 0.05\n",
    "p = model.f_pvalue\n",
    "\n",
    "if p < alpha:  \n",
    "    print(\"The null hypothesis can be rejected\")\n",
    "else:\n",
    "    print(\"The null hypothesis cannot be rejected\")\n"
   ]
  },
  {
   "cell_type": "markdown",
   "metadata": {},
   "source": [
    "We fail to reject the null hypothesis, meaning that there is no difference in the means of reorder levels between shipping companies. "
   ]
  },
  {
   "cell_type": "markdown",
   "metadata": {},
   "source": [
    "## Conclusions"
   ]
  },
  {
   "cell_type": "markdown",
   "metadata": {},
   "source": [
    "We discovered a lot of solid information for NorthWind. Our results were as follows:\n",
    "\n",
    "**Q1a: Discounted orders have higher average quantities that non-discounted orders.                                              \n",
    "Q1b: There is no difference in average quantity of orders across discount levels.**\n",
    "\n",
    "Take-away: It does not matter whether the discount is 5% off or 25% off, the important thing is the existance of a discount at all.\n",
    "\n",
    "\n",
    "**Q2a: When customers are living in the same region as the employee responsible for their order, they will on average spend more money on their order.                                                                                                                   \n",
    "Q2b: Living in a common region with an employee does not have an effect on the average quantity of a customer's order.**\n",
    "\n",
    "Take-away: Trying to connect employees and consumers who are located in the same area may help employees upsell customers on certain products, but it will not aid an employee in being able to sell larger amounts of a product.\n",
    "\n",
    "**Q3a: Products that reference a \"chef\" (such as \"Sir Rodney's Marmalade\") in their name do not differ in average quantity per order versus their non-chef-referencing product name counterparts.                                                                                                                         \n",
    "Q3b: Products that reference a chef in their name are on average more expensive that products without a chef in their name.**\n",
    "\n",
    "Take-away: Referencing a chef in a product name does not increase demand for the product. However, a chef-inspired name may help a consumer justify spending more money on the product.\n",
    "\n",
    "**Q4: The Shipping company used to deliver an order has no effect on the reorder levels of a product.**\n",
    "\n",
    "Take-away: The shipping companies had no difference in performance, so if one company is difficult to work with or increases their prices, they can be easily replaced by one of the other two shipping companies.\n"
   ]
  },
  {
   "cell_type": "markdown",
   "metadata": {},
   "source": [
    "## Further Exploration"
   ]
  },
  {
   "cell_type": "markdown",
   "metadata": {},
   "source": [
    "With so much information in the NorthWind database, there are seemingly endless trends to uncover that can help NorthWind run their business as efficiently as possible. In the future, I think that it would be intriguing to explore the database further. I am particularly interested in customer satisfaction with products because I think that in the age of social media, word of mouth travels fast, and if people like a product, that opinion (or product) will most likely end up on a social media platform of theirs, which is essentially free advertising for NorthWind.\n",
    "\n",
    "Additionally, I would like to look more into customer demographics for specific products, for instance, are consumers from a certain country more likely to buy certain products? Does gender or age of a consumer influence their purchasing habits? I believe customer demographics are informative because targeting your consumer base has proven to be highly effective in increasing revenue for a company.\n",
    "\n",
    "Employee data is also important for research purposes. I think that taking a closer look at which employees are the most effective at their job could yield some interesting information. For example, are employees who have been at NorthWind for a long time better at customer service? Is there a difference between the performance of employees who are younger versus employess that are older and perhaps have more experience? "
   ]
  }
 ],
 "metadata": {
  "kernelspec": {
   "display_name": "learn-env",
   "language": "python",
   "name": "learn-env"
  },
  "language_info": {
   "codemirror_mode": {
    "name": "ipython",
    "version": 3
   },
   "file_extension": ".py",
   "mimetype": "text/x-python",
   "name": "python",
   "nbconvert_exporter": "python",
   "pygments_lexer": "ipython3",
   "version": "3.6.5"
  }
 },
 "nbformat": 4,
 "nbformat_minor": 2
}
